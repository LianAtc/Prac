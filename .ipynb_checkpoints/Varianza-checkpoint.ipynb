{
 "cells": [
  {
   "cell_type": "code",
   "execution_count": 1,
   "id": "e46aee5e",
   "metadata": {},
   "outputs": [],
   "source": [
    "import numpy as np"
   ]
  },
  {
   "cell_type": "code",
   "execution_count": 2,
   "id": "11fcaca2",
   "metadata": {},
   "outputs": [],
   "source": [
    "import matplotlib.pyplot as plt"
   ]
  },
  {
   "cell_type": "code",
   "execution_count": 3,
   "id": "3080c129",
   "metadata": {},
   "outputs": [
    {
     "name": "stdout",
     "output_type": "stream",
     "text": [
      "Overwriting asmVarianza.asm\n"
     ]
    }
   ],
   "source": [
    "%%file asmVarianza.asm\n",
    "    global asmVarianza\n",
    "    section .text\n",
    "\n",
    "asmVarianza:\n",
    "    \n",
    "    xorpd xmm0, xmm0\n",
    "    xorpd xmm1, xmm1\n",
    "    xorpd xmm2, xmm2\n",
    "    xorpd xmm3, xmm3\n",
    "    xorpd xmm4, xmm4\n",
    "\n",
    "    ;Copia de N(rsi)\n",
    "    mov rax, rsi\n",
    "    xor rbx, rbx\n",
    "    xor rcx, rcx\n",
    "\n",
    "    promedio: \n",
    "    movsd xmm1, [rdi + rbx]\n",
    "    addsd xmm2, xmm1\n",
    "    add rbx, 8 \n",
    "    inc rcx\n",
    "    cmp rcx, rsi\n",
    "    jne promedio\n",
    "\n",
    "    cvtsi2sd xmm3, rax\n",
    "    divsd xmm2, xmm3\n",
    "\n",
    "    mov rcx, 0\n",
    "    mov rbx, 0\n",
    "    ;u = xmm2\n",
    "\n",
    "sumatoria: \n",
    "    movsd xmm1, [rdi + rbx]\n",
    "    subsd xmm1, xmm2\n",
    "    mulsd xmm1, xmm1\n",
    "    addsd xmm4, xmm1\n",
    "    add rbx, 8 \n",
    "    inc rcx\n",
    "    cmp rcx, rsi\n",
    "    jne sumatoria\n",
    "\n",
    "exit:\n",
    "    cdq\n",
    "    divsd xmm4, xmm3\n",
    "    movsd xmm0, xmm4\n",
    "    ret"
   ]
  },
  {
   "cell_type": "code",
   "execution_count": 4,
   "id": "bfeac60e",
   "metadata": {},
   "outputs": [
    {
     "name": "stdout",
     "output_type": "stream",
     "text": [
      "Overwriting asmVarianza.c\n"
     ]
    }
   ],
   "source": [
    "%%file asmVarianza.c\n",
    "extern double asmVarianza(double *arreglo, int N);"
   ]
  },
  {
   "cell_type": "code",
   "execution_count": 5,
   "id": "6f8220ae",
   "metadata": {},
   "outputs": [],
   "source": [
    "! nasm -f elf64 -g asmVarianza.asm -o asmVarianza.o\n",
    "! gcc -shared asmVarianza.o asmVarianza.c -o asmVarianza.so"
   ]
  },
  {
   "cell_type": "code",
   "execution_count": 6,
   "id": "e7d3da98",
   "metadata": {},
   "outputs": [],
   "source": [
    "import ctypes"
   ]
  },
  {
   "cell_type": "code",
   "execution_count": 7,
   "id": "94c58655",
   "metadata": {},
   "outputs": [],
   "source": [
    "def ctypes_asmVarianza():\n",
    "    # indicar la ruta de la shared library\n",
    "    libfile = './asmVarianza.so'\n",
    "\n",
    "    # cargar la shared library\n",
    "    lib = ctypes.CDLL(libfile)\n",
    "\n",
    "    # tipo de dato de los argumentos\n",
    "    lib.asmVarianza.argtypes = [\n",
    "        np.ctypeslib.ndpointer(dtype=np.float64),\n",
    "        ctypes.c_int\n",
    "    ]\n",
    "    \n",
    "    # tipo de dato que devuelve\n",
    "    lib.asmVarianza.restype = ctypes.c_double\n",
    "    \n",
    "    # funcion configurada\n",
    "    return lib.asmVarianza"
   ]
  },
  {
   "cell_type": "code",
   "execution_count": 8,
   "id": "61df2f56",
   "metadata": {},
   "outputs": [
    {
     "name": "stdout",
     "output_type": "stream",
     "text": [
      "Overwriting cVarianza.c\n"
     ]
    }
   ],
   "source": [
    "%%file cVarianza.c\n",
    "#include <math.h>\n",
    "double cVarianza(double *arreglo, int N) {\n",
    "\tint i = 0;\n",
    "\tdouble media=0,sumatoria=0;\n",
    "\tfor(i=0; i<N; i++){\n",
    "\t\tmedia = media + arreglo[i];\n",
    "\t}\n",
    "\tmedia = media/N;\n",
    "\tfor ( i = 0; i < N; i++){\n",
    "\t\tsumatoria = sumatoria + pow((arreglo[i]-media),2);\n",
    "\t}\n",
    "\treturn (sumatoria/N);\n",
    "}"
   ]
  },
  {
   "cell_type": "code",
   "execution_count": 9,
   "id": "d749c95a",
   "metadata": {},
   "outputs": [],
   "source": [
    "! gcc -c -Wall -Werror -fpic cVarianza.c \n",
    "! gcc -shared cVarianza.o -o cVarianza.so -lm"
   ]
  },
  {
   "cell_type": "code",
   "execution_count": 10,
   "id": "8ef65ddf",
   "metadata": {},
   "outputs": [],
   "source": [
    "def ctypes_cVarianza():\n",
    "    # indicar la ruta de la shared library\n",
    "    libfile = './cVarianza.so'\n",
    "\n",
    "    # cargar la shared library\n",
    "    lib = ctypes.CDLL(libfile)\n",
    "\n",
    "    # tipo de dato de los argumentos\n",
    "    lib.cVarianza.argtypes = [\n",
    "        np.ctypeslib.ndpointer(dtype=np.float64),\n",
    "        ctypes.c_int\n",
    "    ]\n",
    "    \n",
    "    # tipo de dato que devuelve\n",
    "    lib.cVarianza.restype = ctypes.c_double\n",
    "    \n",
    "    # funcion configurada\n",
    "    return lib.cVarianza"
   ]
  },
  {
   "cell_type": "code",
   "execution_count": 11,
   "id": "fefa2dee",
   "metadata": {},
   "outputs": [],
   "source": [
    "asmVarianza = ctypes_asmVarianza()"
   ]
  },
  {
   "cell_type": "code",
   "execution_count": 12,
   "id": "26d03d16",
   "metadata": {},
   "outputs": [],
   "source": [
    "cVarianza = ctypes_cVarianza()"
   ]
  },
  {
   "cell_type": "code",
   "execution_count": 13,
   "id": "9e684f1b",
   "metadata": {},
   "outputs": [],
   "source": [
    "# tam\n",
    "size = 4\n",
    "\n",
    "# entradas\n",
    "x = np.random.rand(size,1).astype(np.float64)"
   ]
  },
  {
   "cell_type": "code",
   "execution_count": 14,
   "id": "81c5effe",
   "metadata": {},
   "outputs": [
    {
     "data": {
      "text/plain": [
       "array([[0.83910054],\n",
       "       [0.46004829],\n",
       "       [0.80571289],\n",
       "       [0.03910416]])"
      ]
     },
     "execution_count": 14,
     "metadata": {},
     "output_type": "execute_result"
    }
   ],
   "source": [
    "x"
   ]
  },
  {
   "cell_type": "code",
   "execution_count": 15,
   "id": "d428ca86",
   "metadata": {},
   "outputs": [
    {
     "data": {
      "text/plain": [
       "0.10432227928193599"
      ]
     },
     "execution_count": 15,
     "metadata": {},
     "output_type": "execute_result"
    }
   ],
   "source": [
    "asmVarianza(x,size)"
   ]
  },
  {
   "cell_type": "code",
   "execution_count": 16,
   "id": "30c2502e",
   "metadata": {},
   "outputs": [
    {
     "data": {
      "text/plain": [
       "0.10432227928193599"
      ]
     },
     "execution_count": 16,
     "metadata": {},
     "output_type": "execute_result"
    }
   ],
   "source": [
    "cVarianza(x,size)"
   ]
  },
  {
   "cell_type": "code",
   "execution_count": 17,
   "id": "52f0b2aa",
   "metadata": {},
   "outputs": [
    {
     "data": {
      "text/plain": [
       "True"
      ]
     },
     "execution_count": 17,
     "metadata": {},
     "output_type": "execute_result"
    }
   ],
   "source": [
    "asmVarianza(x,size) == cVarianza(x,size)"
   ]
  },
  {
   "cell_type": "code",
   "execution_count": null,
   "id": "8c312b28",
   "metadata": {},
   "outputs": [],
   "source": []
  },
  {
   "cell_type": "code",
   "execution_count": null,
   "id": "13238fe0",
   "metadata": {},
   "outputs": [],
   "source": []
  }
 ],
 "metadata": {
  "kernelspec": {
   "display_name": "Python 3 (ipykernel)",
   "language": "python",
   "name": "python3"
  },
  "language_info": {
   "codemirror_mode": {
    "name": "ipython",
    "version": 3
   },
   "file_extension": ".py",
   "mimetype": "text/x-python",
   "name": "python",
   "nbconvert_exporter": "python",
   "pygments_lexer": "ipython3",
   "version": "3.8.10"
  }
 },
 "nbformat": 4,
 "nbformat_minor": 5
}
